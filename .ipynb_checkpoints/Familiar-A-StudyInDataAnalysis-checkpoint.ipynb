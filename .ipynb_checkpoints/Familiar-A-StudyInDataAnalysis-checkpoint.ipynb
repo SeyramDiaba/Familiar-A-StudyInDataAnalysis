{
 "cells": [
  {
   "cell_type": "markdown",
   "id": "8ef878ce",
   "metadata": {},
   "source": [
    "# Familiar-A-StudyInDataAnalysis"
   ]
  },
  {
   "cell_type": "code",
   "execution_count": 1,
   "id": "fb6c3329",
   "metadata": {},
   "outputs": [],
   "source": [
    "# Import Libraries\n",
    "import pandas as pd\n",
    "import numpy as np\n",
    "\n",
    "\n",
    "# Load datasets\n",
    "lifespans = pd.read_csv('familiar_lifespan.csv')\n",
    "iron =pd.read_csv('familiar_iron.csv')"
   ]
  },
  {
   "cell_type": "markdown",
   "id": "95da4e8d",
   "metadata": {},
   "source": [
    "## Inspecting 'Familiar Lifespan' dataframe"
   ]
  },
  {
   "cell_type": "code",
   "execution_count": 2,
   "id": "1278f536",
   "metadata": {},
   "outputs": [
    {
     "data": {
      "text/html": [
       "<div>\n",
       "<style scoped>\n",
       "    .dataframe tbody tr th:only-of-type {\n",
       "        vertical-align: middle;\n",
       "    }\n",
       "\n",
       "    .dataframe tbody tr th {\n",
       "        vertical-align: top;\n",
       "    }\n",
       "\n",
       "    .dataframe thead th {\n",
       "        text-align: right;\n",
       "    }\n",
       "</style>\n",
       "<table border=\"1\" class=\"dataframe\">\n",
       "  <thead>\n",
       "    <tr style=\"text-align: right;\">\n",
       "      <th></th>\n",
       "      <th>pack</th>\n",
       "      <th>lifespan</th>\n",
       "    </tr>\n",
       "  </thead>\n",
       "  <tbody>\n",
       "    <tr>\n",
       "      <th>0</th>\n",
       "      <td>vein</td>\n",
       "      <td>76.255090</td>\n",
       "    </tr>\n",
       "    <tr>\n",
       "      <th>1</th>\n",
       "      <td>artery</td>\n",
       "      <td>76.404504</td>\n",
       "    </tr>\n",
       "    <tr>\n",
       "      <th>2</th>\n",
       "      <td>artery</td>\n",
       "      <td>75.952442</td>\n",
       "    </tr>\n",
       "    <tr>\n",
       "      <th>3</th>\n",
       "      <td>artery</td>\n",
       "      <td>76.923082</td>\n",
       "    </tr>\n",
       "    <tr>\n",
       "      <th>4</th>\n",
       "      <td>artery</td>\n",
       "      <td>73.771212</td>\n",
       "    </tr>\n",
       "  </tbody>\n",
       "</table>\n",
       "</div>"
      ],
      "text/plain": [
       "     pack   lifespan\n",
       "0    vein  76.255090\n",
       "1  artery  76.404504\n",
       "2  artery  75.952442\n",
       "3  artery  76.923082\n",
       "4  artery  73.771212"
      ]
     },
     "execution_count": 2,
     "metadata": {},
     "output_type": "execute_result"
    }
   ],
   "source": [
    "lifespans.head()"
   ]
  },
  {
   "cell_type": "code",
   "execution_count": 3,
   "id": "02fed096",
   "metadata": {},
   "outputs": [
    {
     "data": {
      "text/plain": [
       "0     76.255090\n",
       "7     74.502021\n",
       "8     76.937674\n",
       "9     74.838006\n",
       "11    77.484756\n",
       "12    79.969158\n",
       "13    77.047370\n",
       "15    72.874752\n",
       "18    77.492341\n",
       "19    77.583983\n",
       "21    75.993359\n",
       "23    74.798150\n",
       "24    73.343702\n",
       "26    78.326720\n",
       "27    76.341550\n",
       "30    77.488889\n",
       "33    72.142566\n",
       "34    76.532101\n",
       "37    75.993032\n",
       "38    77.435045\n",
       "Name: lifespan, dtype: float64"
      ]
     },
     "execution_count": 3,
     "metadata": {},
     "output_type": "execute_result"
    }
   ],
   "source": [
    "# Extracting subscribers of the vein pack\n",
    "vein_pack_lifespans = lifespans.lifespan[lifespans['pack']=='vein']\n",
    "vein_pack_lifespans\n"
   ]
  },
  {
   "cell_type": "markdown",
   "id": "76590ece",
   "metadata": {},
   "source": [
    "## Average Lifespan for Vein Pack Subscribers"
   ]
  },
  {
   "cell_type": "code",
   "execution_count": 4,
   "id": "858273e2",
   "metadata": {},
   "outputs": [
    {
     "name": "stdout",
     "output_type": "stream",
     "text": [
      "76.16901335636044\n"
     ]
    }
   ],
   "source": [
    "print(np.mean(vein_pack_lifespans))\n",
    "# result is longer than '73years'"
   ]
  },
  {
   "cell_type": "markdown",
   "id": "7c619678",
   "metadata": {},
   "source": [
    "## Testing the null and alternative hypothesis"
   ]
  },
  {
   "cell_type": "markdown",
   "id": "2169679a",
   "metadata": {},
   "source": [
    "### Run one-sample t-test"
   ]
  },
  {
   "cell_type": "code",
   "execution_count": 5,
   "id": "03769581",
   "metadata": {
    "scrolled": true
   },
   "outputs": [
    {
     "name": "stdout",
     "output_type": "stream",
     "text": [
      "5.972157921433211e-07\n"
     ]
    }
   ],
   "source": [
    "\n",
    "from scipy.stats import ttest_1samp\n",
    "# Our significance threshold is 0.05\n",
    "tstat,pval = ttest_1samp(vein_pack_lifespans, 73)\n",
    "print(pval)"
   ]
  },
  {
   "cell_type": "markdown",
   "id": "8a90c79a",
   "metadata": {},
   "source": [
    "   #####            Our pval is much smaller than '0.05' so we conclude that the average lifespan of Vein Pack subscribers is significantly different from 73 years"
   ]
  },
  {
   "cell_type": "markdown",
   "id": "c1556907",
   "metadata": {},
   "source": [
    "<hr>"
   ]
  },
  {
   "cell_type": "markdown",
   "id": "370a7761",
   "metadata": {},
   "source": [
    "## Extracting artery pack from DF"
   ]
  },
  {
   "cell_type": "code",
   "execution_count": 6,
   "id": "5451d374",
   "metadata": {},
   "outputs": [
    {
     "data": {
      "text/plain": [
       "1     76.404504\n",
       "2     75.952442\n",
       "3     76.923082\n",
       "4     73.771212\n",
       "5     74.117420\n",
       "6     74.963119\n",
       "10    73.319543\n",
       "14    75.857401\n",
       "16    76.335370\n",
       "17    73.079249\n",
       "20    76.152654\n",
       "22    77.023545\n",
       "25    74.639757\n",
       "28    78.385477\n",
       "29    68.314898\n",
       "31    77.386507\n",
       "32    73.044766\n",
       "35    74.544983\n",
       "36    73.355103\n",
       "39    73.902213\n",
       "Name: lifespan, dtype: float64"
      ]
     },
     "execution_count": 6,
     "metadata": {},
     "output_type": "execute_result"
    }
   ],
   "source": [
    "artery_pack_lifespans= lifespans.lifespan[lifespans['pack'] == 'artery']\n",
    "artery_pack_lifespans"
   ]
  },
  {
   "cell_type": "markdown",
   "id": "1078d38e",
   "metadata": {},
   "source": [
    "## Average lifespan for artery pack subscribers"
   ]
  },
  {
   "cell_type": "code",
   "execution_count": 7,
   "id": "92a14fc7",
   "metadata": {},
   "outputs": [
    {
     "name": "stdout",
     "output_type": "stream",
     "text": [
      "74.87366223517039\n"
     ]
    }
   ],
   "source": [
    "print(np.mean(artery_pack_lifespans))"
   ]
  },
  {
   "cell_type": "markdown",
   "id": "01b57ca6",
   "metadata": {},
   "source": [
    "## Running two-sample t-test"
   ]
  },
  {
   "cell_type": "code",
   "execution_count": 8,
   "id": "dc22ae98",
   "metadata": {},
   "outputs": [
    {
     "name": "stdout",
     "output_type": "stream",
     "text": [
      "0.05588883079070819\n"
     ]
    }
   ],
   "source": [
    "from scipy.stats import ttest_ind\n",
    "tstat,pval = ttest_ind(vein_pack_lifespans,artery_pack_lifespans)\n",
    "print(pval)"
   ]
  },
  {
   "cell_type": "markdown",
   "id": "9d879b6f",
   "metadata": {},
   "source": [
    "# Inspecting 'Iron' dataframe"
   ]
  },
  {
   "cell_type": "code",
   "execution_count": 9,
   "id": "722504d0",
   "metadata": {},
   "outputs": [
    {
     "name": "stdout",
     "output_type": "stream",
     "text": [
      "     pack    iron\n",
      "0    vein     low\n",
      "1  artery  normal\n",
      "2  artery  normal\n",
      "3  artery  normal\n",
      "4  artery    high\n"
     ]
    }
   ],
   "source": [
    "print(iron.head())"
   ]
  },
  {
   "cell_type": "markdown",
   "id": "a4eb5c08",
   "metadata": {},
   "source": [
    "# Link between pack and iron levels"
   ]
  },
  {
   "cell_type": "code",
   "execution_count": 10,
   "id": "077d4b86",
   "metadata": {},
   "outputs": [
    {
     "name": "stdout",
     "output_type": "stream",
     "text": [
      "pack    artery  vein\n",
      "iron                \n",
      "high        87    20\n",
      "low         29   140\n",
      "normal      29    40\n"
     ]
    }
   ],
   "source": [
    "Xtab = pd.crosstab(iron.iron,iron.pack)\n",
    "print(Xtab)"
   ]
  },
  {
   "cell_type": "code",
   "execution_count": 11,
   "id": "5fcb4e0e",
   "metadata": {},
   "outputs": [
    {
     "name": "stdout",
     "output_type": "stream",
     "text": [
      "9.359749337432874e-25\n"
     ]
    }
   ],
   "source": [
    "from scipy.stats import chi2_contingency\n",
    "chi2,pval,dof,expected = chi2_contingency(Xtab)\n",
    "print(pval)"
   ]
  },
  {
   "cell_type": "code",
   "execution_count": 12,
   "id": "40c638e5",
   "metadata": {},
   "outputs": [],
   "source": [
    "# pval is below significance threshold so there is a link between pack and iron levels"
   ]
  }
 ],
 "metadata": {
  "kernelspec": {
   "display_name": "Python 3",
   "language": "python",
   "name": "python3"
  },
  "language_info": {
   "codemirror_mode": {
    "name": "ipython",
    "version": 3
   },
   "file_extension": ".py",
   "mimetype": "text/x-python",
   "name": "python",
   "nbconvert_exporter": "python",
   "pygments_lexer": "ipython3",
   "version": "3.8.8"
  }
 },
 "nbformat": 4,
 "nbformat_minor": 5
}
